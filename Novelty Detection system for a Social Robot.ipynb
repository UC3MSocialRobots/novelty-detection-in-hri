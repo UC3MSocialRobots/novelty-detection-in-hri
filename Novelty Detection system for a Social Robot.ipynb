{
 "metadata": {
  "name": "",
  "signature": "sha256:b05bca43685b93df25cb08a247e9071dc9b0b9027a35995bf99656d09aefa64f"
 },
 "nbformat": 3,
 "nbformat_minor": 0,
 "worksheets": [
  {
   "cells": [
    {
     "cell_type": "code",
     "collapsed": false,
     "input": [
      "import helper as hp\n",
      "from IPython.display import HTML\n",
      "from IPython.html import widgets\n",
      "from IPython.display import display, clear_output"
     ],
     "language": "python",
     "metadata": {},
     "outputs": [],
     "prompt_number": 2
    },
    {
     "cell_type": "code",
     "collapsed": false,
     "input": [
      "%pylab inline"
     ],
     "language": "python",
     "metadata": {},
     "outputs": [
      {
       "output_type": "stream",
       "stream": "stdout",
       "text": [
        "Populating the interactive namespace from numpy and matplotlib\n"
       ]
      }
     ],
     "prompt_number": 3
    },
    {
     "cell_type": "code",
     "collapsed": false,
     "input": [
      "hp = reload(hp)"
     ],
     "language": "python",
     "metadata": {},
     "outputs": [],
     "prompt_number": 17
    },
    {
     "cell_type": "code",
     "collapsed": false,
     "input": [
      "'''\n",
      "    paramenters for 3D plotting, represent the 3 possible poses adopted\n",
      "'''\n",
      "\n",
      "red = 'STAND_POINTING_RIGHT'\n",
      "blue = 'STAND_POINTING_LEFT'\n",
      "green = 'STAND_POINTING_FORWARD'\n",
      "\n",
      "'''\n",
      "    K_GMM_n, K_KMeans_n are the noise curiosity factors for each algorithm\n",
      "    K_GMM_s, K_KMeans_s are the strangeness curiosity factors for each algorithm\n",
      "    Ks is a list containing the 4 above mentioned parameters\n",
      "    \n",
      "'''\n",
      "\n",
      "global K_GMM_n, K_KMeans_n, K_GMM_s, K_KMeans_s, Ks\n",
      "K_GMM_n, K_KMeans_n, K_GMM_s, K_KMeans_s = [0,0,0,0]"
     ],
     "language": "python",
     "metadata": {},
     "outputs": [],
     "prompt_number": 4
    },
    {
     "cell_type": "markdown",
     "metadata": {},
     "source": [
      "### Recovering similar values from queue"
     ]
    },
    {
     "cell_type": "code",
     "collapsed": false,
     "input": [
      "'''\n",
      "    Sliders functions for curiosity factors\n",
      "'''\n",
      "def K_GMM_noise(name, value):\n",
      "    global K_GMM_n, Ks\n",
      "    \n",
      "    K_GMM_n = value*10000\n",
      "    \n",
      "    #Rewrite the curiosity factors list \n",
      "    Ks = [K_GMM_n, K_KMeans_n, K_GMM_s, K_KMeans_s]\n",
      "    \n",
      "def K_Km_noise(name, value):\n",
      "    global K_KMeans_n, Ks\n",
      "    K_KMeans_n = value\n",
      "    #Rewrite the curiosity factors list \n",
      "    Ks = [K_GMM_n, K_KMeans_n, K_GMM_s, K_KMeans_s]\n",
      "    \n",
      "def K_GMM_strange(name, value):\n",
      "    global K_GMM_s, Ks\n",
      "    K_GMM_s = value*100000\n",
      "    #Rewrite the curiosity factors list \n",
      "    Ks = [K_GMM_n, K_KMeans_n, K_GMM_s, K_KMeans_s]\n",
      "    \n",
      "def K_Km_strange(name, value):\n",
      "    global K_KMeans_s, Ks\n",
      "    K_KMeans_s = value\n",
      "    #Rewrite the curiosity factors list \n",
      "    Ks = [K_GMM_n, K_KMeans_n, K_GMM_s, K_KMeans_s]\n",
      "'''\n",
      "    Button functions to Add users to the system\n",
      "'''\n",
      "\n",
      "indexes = [i for i in np.arange(30)]\n",
      "indexes.pop(indexes.index(0)) # There is no 'user00' data, so we remove it\n",
      "indexes.pop(indexes.index(6))  # There is no 'user06' data, so we remove it\n",
      "indexes.pop(indexes.index(12)) # There is no 'user12' data in POINTING LEFT, so we remove it\n",
      "\n",
      "red_users = indexes\n",
      "blue_users = indexes\n",
      "green_users = indexes\n",
      "\n",
      "\n",
      "def click_right(widget):\n",
      "    j = random.choice(red_users) # Choose a random user from the users list\n",
      "    red_users.pop(red_users.index(j)) # Remove the taken user from the list\n",
      "    global queue\n",
      "    queue = hp.add_user_median(queue,j, red) #Add the median for that user to the queue list\n",
      "    users.append([j, red])\n",
      "    \n",
      "def click_left(widget):\n",
      "    j = random.choice(blue_users) # Choose a random user from the users list\n",
      "    blue_users.pop(blue_users.index(j)) # Remove the taken user from the list\n",
      "    global queue\n",
      "    queue = hp.add_user_median(queue,j, blue) #Add the median for that user to the queue list\n",
      "    users.append([j, blue])\n",
      "    \n",
      "def click_forward(widget):\n",
      "    j = random.choice(green_users) # Choose a random user from the users list\n",
      "    green_users.pop(green_users.index(j)) # Remove the taken user from the list\n",
      "    global queue\n",
      "    queue = hp.add_user_median(queue,j, green) #Add the median for that user to the queue list\n",
      "    users.append([j, green])\n",
      "    #hp.compute_and_reload_figures('') # The figures could be reloaded here, but they would stack up, instead its run separately\n",
      "\n",
      "'''\n",
      "    Button function to add the last entry to the normal dataset and to users_normal\n",
      "'''\n",
      "    \n",
      "def learn_pose(widget):\n",
      "    new_pose = queue[-1]\n",
      "    new_pose_index = users[-1]\n",
      "    global normal_users\n",
      "    normal_users.append(new_pose)\n",
      "    if new_pose_index not in users_normal: \n",
      "        users_normal.append(new_pose_index)"
     ],
     "language": "python",
     "metadata": {},
     "outputs": [],
     "prompt_number": 5
    },
    {
     "cell_type": "code",
     "collapsed": false,
     "input": [
      "number_users = 6\n",
      "initial_pose = red\n",
      "\n",
      "'''\n",
      "    Start the system with using a number of users, number_users  all posing in the same direction, initial_pose\n",
      "    users and users_normal have a [number_user, pose] form\n",
      "    normal_users and queue are lists of users in data form\n",
      "    \n",
      "'''\n",
      "\n",
      "users, normal_users, queue = hp.start_users(number_users, initial_pose)\n",
      "users_normal = list(users)"
     ],
     "language": "python",
     "metadata": {},
     "outputs": [],
     "prompt_number": 8
    },
    {
     "cell_type": "code",
     "collapsed": false,
     "input": [
      "'''\n",
      "    Display sliders for curiosity factors\n",
      "'''\n",
      "\n",
      "int_range = widgets.FloatSliderWidget(min=0.5, max=10, step=0.5, description = 'K_GMM_noise')\n",
      "int_range.on_trait_change(K_GMM_noise, 'value')\n",
      "int_range2 = widgets.IntSliderWidget(min=0, max=10, step=1,description = 'K_KMeans_noise')\n",
      "int_range2.on_trait_change(K_Km_noise, 'value')\n",
      "int_range3 = widgets.FloatSliderWidget(min=0.5, max=10, step=0.5, description = 'K_GMM_strangeness')\n",
      "int_range3.on_trait_change(K_GMM_strange, 'value')\n",
      "int_range4 = widgets.IntSliderWidget(min=0, max=10, step=1,description = 'K_KMeans_strangeness')\n",
      "int_range4.on_trait_change(K_Km_strange, 'value')\n",
      "\n",
      "\n",
      "display(int_range, int_range2,int_range3, int_range4)"
     ],
     "language": "python",
     "metadata": {},
     "outputs": [],
     "prompt_number": 9
    },
    {
     "cell_type": "code",
     "collapsed": false,
     "input": [
      "'''\n",
      "    Display buttons to add users\n",
      "'''\n",
      "\n",
      "b = widgets.ButtonWidget(description='Add POINTING RIGHT')\n",
      "b.on_click(click_right)\n",
      "b2 = widgets.ButtonWidget(description='Add POINTING LEFT')\n",
      "b2.on_click(click_left)\n",
      "b3 = widgets.ButtonWidget(description='Add POINTING FORWARD')\n",
      "b3.on_click(click_forward)\n",
      "display(b, b2, b3)"
     ],
     "language": "python",
     "metadata": {},
     "outputs": [],
     "prompt_number": 10
    },
    {
     "cell_type": "code",
     "collapsed": false,
     "input": [
      "'''\n",
      "    Compute the classification for the last added entry and display the results\n",
      "    noise = red, interesting = green\n",
      "    known = red, strange = green\n",
      "    If the entry is detected as not interesting by all algorithms, the strangeness score is not displayed\n",
      "    \n",
      "'''\n",
      "hp.compute_and_reload_figures(normal_users,queue, users_normal, users,Ks )"
     ],
     "language": "python",
     "metadata": {},
     "outputs": [
      {
       "metadata": {},
       "output_type": "display_data",
       "png": "[encoded data removed]",
       "text": [
        "<matplotlib.figure.Figure at 0x10952eed0>"
       ]
      }
     ],
     "prompt_number": 18
    },
    {
     "cell_type": "code",
     "collapsed": false,
     "input": [
      "'''\n",
      "    Display button to Learn the last entry\n",
      "'''\n",
      "b_learn = widgets.ButtonWidget(description='Learn Last Entry')\n",
      "b_learn.on_click(learn_pose)\n",
      "display(b_learn)"
     ],
     "language": "python",
     "metadata": {},
     "outputs": [],
     "prompt_number": 19
    },
    {
     "cell_type": "code",
     "collapsed": false,
     "input": [],
     "language": "python",
     "metadata": {},
     "outputs": []
    }
   ],
   "metadata": {}
  }
 ]
}